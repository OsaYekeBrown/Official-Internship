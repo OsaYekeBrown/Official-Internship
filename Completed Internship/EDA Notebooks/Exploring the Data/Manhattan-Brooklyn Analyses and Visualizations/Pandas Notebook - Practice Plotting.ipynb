{
 "cells": [
  {
   "cell_type": "markdown",
   "metadata": {},
   "source": [
    "Categorical variables contain a finite number of categories or distinct groups. Categorical data might not have a logical order. For example, categorical predictors include gender, material type, and payment method."
   ]
  },
  {
   "cell_type": "markdown",
   "metadata": {},
   "source": [
    "Quantitative variables can be classified as discrete or continuous."
   ]
  },
  {
   "cell_type": "markdown",
   "metadata": {},
   "source": [
    "Discrete variables are numeric variables that have a countable number of values between any two values. A discrete variable is always numeric. For example, the number of customer complaints or the number of flaws or defects."
   ]
  },
  {
   "cell_type": "markdown",
   "metadata": {},
   "source": [
    "Continuous variables are numeric variables that have an infinite number of values between any two values. A continuous variable can be numeric or date/time. For example, the length of a part or the date and time a payment is received."
   ]
  },
  {
   "cell_type": "markdown",
   "metadata": {},
   "source": [
    "Step 1: Import libraries. Use %matplotlib inline to have your plots embedded in the notebook"
   ]
  },
  {
   "cell_type": "code",
   "execution_count": 1,
   "metadata": {},
   "outputs": [
    {
     "name": "stdout",
     "output_type": "stream",
     "text": [
      "Using matplotlib backend: Qt5Agg\n"
     ]
    }
   ],
   "source": [
    "import pandas as pd\n",
    "import numpy as np\n",
    "import matplotlib.pyplot as plt\n",
    "%matplotlib"
   ]
  },
  {
   "cell_type": "code",
   "execution_count": 2,
   "metadata": {},
   "outputs": [],
   "source": [
    "#Loading the data\n",
    "data = pd.read_csv('Urban_Park_Ranger_Animal_Condition_Response_Manhattan_Ruth.csv',\n",
    "                   parse_dates = ['Date and Time of initial call', 'Date and time of Ranger response'])"
   ]
  },
  {
   "cell_type": "code",
   "execution_count": 3,
   "metadata": {},
   "outputs": [
    {
     "data": {
      "text/html": [
       "<div>\n",
       "<style scoped>\n",
       "    .dataframe tbody tr th:only-of-type {\n",
       "        vertical-align: middle;\n",
       "    }\n",
       "\n",
       "    .dataframe tbody tr th {\n",
       "        vertical-align: top;\n",
       "    }\n",
       "\n",
       "    .dataframe thead th {\n",
       "        text-align: right;\n",
       "    }\n",
       "</style>\n",
       "<table border=\"1\" class=\"dataframe\">\n",
       "  <thead>\n",
       "    <tr style=\"text-align: right;\">\n",
       "      <th></th>\n",
       "      <th>Date and Time of initial call</th>\n",
       "      <th>Date and time of Ranger response</th>\n",
       "      <th>Borough</th>\n",
       "      <th>Property</th>\n",
       "      <th>Location</th>\n",
       "      <th>Species Description</th>\n",
       "      <th>Call Source</th>\n",
       "      <th>Species Status</th>\n",
       "      <th>Animal Condition</th>\n",
       "      <th>Duration of Response</th>\n",
       "      <th>...</th>\n",
       "      <th>311SR Number</th>\n",
       "      <th>Final Ranger Action</th>\n",
       "      <th># of Animals</th>\n",
       "      <th>PEP Response</th>\n",
       "      <th>Animal Monitored</th>\n",
       "      <th>Rehabilitator</th>\n",
       "      <th>Hours spent monitoring</th>\n",
       "      <th>Police Response</th>\n",
       "      <th>ESU Response</th>\n",
       "      <th>ACC Intake Number</th>\n",
       "    </tr>\n",
       "  </thead>\n",
       "  <tbody>\n",
       "    <tr>\n",
       "      <th>0</th>\n",
       "      <td>2019-05-09 11:30:00</td>\n",
       "      <td>2019-05-09 15:00:00</td>\n",
       "      <td>Manhattan</td>\n",
       "      <td>Central Park</td>\n",
       "      <td>Large Bald Cyprus on South East Corner of Harl...</td>\n",
       "      <td>American Goldfinch</td>\n",
       "      <td>Public</td>\n",
       "      <td>Native</td>\n",
       "      <td>DOA</td>\n",
       "      <td>0.5</td>\n",
       "      <td>...</td>\n",
       "      <td>NaN</td>\n",
       "      <td>Relocated/Condition Corrected</td>\n",
       "      <td>1.0</td>\n",
       "      <td>False</td>\n",
       "      <td>False</td>\n",
       "      <td>NaN</td>\n",
       "      <td>NaN</td>\n",
       "      <td>False</td>\n",
       "      <td>False</td>\n",
       "      <td>NaN</td>\n",
       "    </tr>\n",
       "    <tr>\n",
       "      <th>1</th>\n",
       "      <td>2019-04-17 13:00:00</td>\n",
       "      <td>2019-04-17 13:30:00</td>\n",
       "      <td>Manhattan</td>\n",
       "      <td>Central Park</td>\n",
       "      <td>Near Boathouse Restaurant Parking Lot</td>\n",
       "      <td>American Robin</td>\n",
       "      <td>Central</td>\n",
       "      <td>Native</td>\n",
       "      <td>Injured</td>\n",
       "      <td>1.0</td>\n",
       "      <td>...</td>\n",
       "      <td>1-1-1706102711</td>\n",
       "      <td>Rehabilitator</td>\n",
       "      <td>1.0</td>\n",
       "      <td>False</td>\n",
       "      <td>False</td>\n",
       "      <td>Wild Bird Fund</td>\n",
       "      <td>NaN</td>\n",
       "      <td>False</td>\n",
       "      <td>False</td>\n",
       "      <td>NaN</td>\n",
       "    </tr>\n",
       "    <tr>\n",
       "      <th>2</th>\n",
       "      <td>2019-05-22 14:00:00</td>\n",
       "      <td>2019-05-22 14:15:00</td>\n",
       "      <td>Manhattan</td>\n",
       "      <td>Central Park</td>\n",
       "      <td>5th Ave and 108th St</td>\n",
       "      <td>American Robin</td>\n",
       "      <td>Public</td>\n",
       "      <td>Native</td>\n",
       "      <td>Healthy</td>\n",
       "      <td>0.5</td>\n",
       "      <td>...</td>\n",
       "      <td>NaN</td>\n",
       "      <td>Relocated/Condition Corrected</td>\n",
       "      <td>1.0</td>\n",
       "      <td>False</td>\n",
       "      <td>False</td>\n",
       "      <td>NaN</td>\n",
       "      <td>NaN</td>\n",
       "      <td>False</td>\n",
       "      <td>False</td>\n",
       "      <td>NaN</td>\n",
       "    </tr>\n",
       "    <tr>\n",
       "      <th>3</th>\n",
       "      <td>2019-05-17 16:15:00</td>\n",
       "      <td>2019-05-17 16:15:00</td>\n",
       "      <td>Manhattan</td>\n",
       "      <td>Madison Square Park</td>\n",
       "      <td>NaN</td>\n",
       "      <td>Bat</td>\n",
       "      <td>Employee</td>\n",
       "      <td>Native</td>\n",
       "      <td>NaN</td>\n",
       "      <td>0.2</td>\n",
       "      <td>...</td>\n",
       "      <td>NaN</td>\n",
       "      <td>Advised/Educated others</td>\n",
       "      <td>1.0</td>\n",
       "      <td>True</td>\n",
       "      <td>False</td>\n",
       "      <td>NaN</td>\n",
       "      <td>NaN</td>\n",
       "      <td>False</td>\n",
       "      <td>False</td>\n",
       "      <td>NaN</td>\n",
       "    </tr>\n",
       "    <tr>\n",
       "      <th>4</th>\n",
       "      <td>2019-05-14 15:54:00</td>\n",
       "      <td>2019-05-14 16:00:00</td>\n",
       "      <td>Manhattan</td>\n",
       "      <td>Central Park</td>\n",
       "      <td>72nd St/ 5th ave wall</td>\n",
       "      <td>Bat</td>\n",
       "      <td>Public</td>\n",
       "      <td>Native</td>\n",
       "      <td>NaN</td>\n",
       "      <td>0.5</td>\n",
       "      <td>...</td>\n",
       "      <td>NaN</td>\n",
       "      <td>Relocated/Condition Corrected</td>\n",
       "      <td>1.0</td>\n",
       "      <td>False</td>\n",
       "      <td>False</td>\n",
       "      <td>NaN</td>\n",
       "      <td>NaN</td>\n",
       "      <td>False</td>\n",
       "      <td>False</td>\n",
       "      <td>NaN</td>\n",
       "    </tr>\n",
       "  </tbody>\n",
       "</table>\n",
       "<p>5 rows × 22 columns</p>\n",
       "</div>"
      ],
      "text/plain": [
       "  Date and Time of initial call Date and time of Ranger response    Borough  \\\n",
       "0           2019-05-09 11:30:00              2019-05-09 15:00:00  Manhattan   \n",
       "1           2019-04-17 13:00:00              2019-04-17 13:30:00  Manhattan   \n",
       "2           2019-05-22 14:00:00              2019-05-22 14:15:00  Manhattan   \n",
       "3           2019-05-17 16:15:00              2019-05-17 16:15:00  Manhattan   \n",
       "4           2019-05-14 15:54:00              2019-05-14 16:00:00  Manhattan   \n",
       "\n",
       "              Property                                           Location  \\\n",
       "0         Central Park  Large Bald Cyprus on South East Corner of Harl...   \n",
       "1         Central Park              Near Boathouse Restaurant Parking Lot   \n",
       "2         Central Park                               5th Ave and 108th St   \n",
       "3  Madison Square Park                                                NaN   \n",
       "4         Central Park                              72nd St/ 5th ave wall   \n",
       "\n",
       "  Species Description Call Source Species Status Animal Condition  \\\n",
       "0  American Goldfinch      Public         Native              DOA   \n",
       "1      American Robin     Central         Native          Injured   \n",
       "2      American Robin      Public         Native          Healthy   \n",
       "3                 Bat    Employee         Native              NaN   \n",
       "4                 Bat      Public         Native              NaN   \n",
       "\n",
       "   Duration of Response  ...    311SR Number            Final Ranger Action  \\\n",
       "0                   0.5  ...             NaN  Relocated/Condition Corrected   \n",
       "1                   1.0  ...  1-1-1706102711                  Rehabilitator   \n",
       "2                   0.5  ...             NaN  Relocated/Condition Corrected   \n",
       "3                   0.2  ...             NaN        Advised/Educated others   \n",
       "4                   0.5  ...             NaN  Relocated/Condition Corrected   \n",
       "\n",
       "  # of Animals PEP Response  Animal Monitored   Rehabilitator  \\\n",
       "0          1.0        False             False             NaN   \n",
       "1          1.0        False             False  Wild Bird Fund   \n",
       "2          1.0        False             False             NaN   \n",
       "3          1.0         True             False             NaN   \n",
       "4          1.0        False             False             NaN   \n",
       "\n",
       "  Hours spent monitoring Police Response  ESU Response ACC Intake Number  \n",
       "0                    NaN           False         False               NaN  \n",
       "1                    NaN           False         False               NaN  \n",
       "2                    NaN           False         False               NaN  \n",
       "3                    NaN           False         False               NaN  \n",
       "4                    NaN           False         False               NaN  \n",
       "\n",
       "[5 rows x 22 columns]"
      ]
     },
     "execution_count": 3,
     "metadata": {},
     "output_type": "execute_result"
    }
   ],
   "source": [
    "#Checking if the data loaded correctly\n",
    "data.head()"
   ]
  },
  {
   "cell_type": "code",
   "execution_count": 4,
   "metadata": {},
   "outputs": [
    {
     "name": "stdout",
     "output_type": "stream",
     "text": [
      "<class 'pandas.core.frame.DataFrame'>\n",
      "RangeIndex: 475 entries, 0 to 474\n",
      "Data columns (total 22 columns):\n",
      "Date and Time of initial call       475 non-null datetime64[ns]\n",
      "Date and time of Ranger response    475 non-null datetime64[ns]\n",
      "Borough                             475 non-null object\n",
      "Property                            475 non-null object\n",
      "Location                            443 non-null object\n",
      "Species Description                 468 non-null object\n",
      "Call Source                         475 non-null object\n",
      "Species Status                      469 non-null object\n",
      "Animal Condition                    355 non-null object\n",
      "Duration of Response                475 non-null float64\n",
      "Age                                 475 non-null object\n",
      "Animal Class                        475 non-null object\n",
      "311SR Number                        262 non-null object\n",
      "Final Ranger Action                 475 non-null object\n",
      "# of Animals                        472 non-null float64\n",
      "PEP Response                        473 non-null object\n",
      "Animal Monitored                    473 non-null object\n",
      "Rehabilitator                       26 non-null object\n",
      "Hours spent monitoring              50 non-null float64\n",
      "Police Response                     473 non-null object\n",
      "ESU Response                        475 non-null bool\n",
      "ACC Intake Number                   183 non-null object\n",
      "dtypes: bool(1), datetime64[ns](2), float64(3), object(16)\n",
      "memory usage: 78.5+ KB\n"
     ]
    }
   ],
   "source": [
    "#Finding what type of columns we have\n",
    "data.info()"
   ]
  },
  {
   "cell_type": "markdown",
   "metadata": {},
   "source": [
    "Plotting categorical variables:\n",
    "\n",
    "Parameters:\n",
    "\n",
    "x : (label or position, optional). Allows plotting of one column versus another. If not specified, the index of the DataFrame is used.\n",
    "\n",
    "y : (label or position, optional) Allows plotting of one column versus another. If not specified, all numerical columns are used.\n",
    "\n",
    "kwds : Additional keyword arguments"
   ]
  },
  {
   "cell_type": "markdown",
   "metadata": {},
   "source": [
    "Formatting the plot:\n",
    "\n",
    "matplotlib.pyplot.xlabel(xlabel, fontdict=None, labelpad=None, kwds)\n",
    "\n",
    "matplotlib.pyplot.ylabel(ylabel, fontdict=None, labelpad=None, kwds)\n",
    "\n",
    "matplotlib.pyplot.grid(b=None, which='major', axis='both', kwds)"
   ]
  },
  {
   "cell_type": "markdown",
   "metadata": {},
   "source": [
    "Saving a plot can be done using the savefig() command.\n",
    "\n",
    "Example: fig.savefig('my_figure.png').\n",
    "\n",
    "You now have a file called my_figure.png in the current working directory"
   ]
  },
  {
   "cell_type": "markdown",
   "metadata": {},
   "source": [
    "Step 2: Create dataframe from CSV file"
   ]
  },
  {
   "cell_type": "markdown",
   "metadata": {},
   "source": [
    "Use parse_dates to convert date and time data into datetime type.\n",
    "\n",
    "Example: data = pd.read_csv('Urban_Park_Ranger_Animal_Condition_Response.csv', parse_dates = ['Date and Time of initial call', 'Date and time of Ranger response'])"
   ]
  },
  {
   "cell_type": "markdown",
   "metadata": {},
   "source": [
    "Step 3: Check that your data loaded correctly"
   ]
  },
  {
   "cell_type": "code",
   "execution_count": 5,
   "metadata": {},
   "outputs": [
    {
     "data": {
      "text/html": [
       "<div>\n",
       "<style scoped>\n",
       "    .dataframe tbody tr th:only-of-type {\n",
       "        vertical-align: middle;\n",
       "    }\n",
       "\n",
       "    .dataframe tbody tr th {\n",
       "        vertical-align: top;\n",
       "    }\n",
       "\n",
       "    .dataframe thead th {\n",
       "        text-align: right;\n",
       "    }\n",
       "</style>\n",
       "<table border=\"1\" class=\"dataframe\">\n",
       "  <thead>\n",
       "    <tr style=\"text-align: right;\">\n",
       "      <th></th>\n",
       "      <th>Date and Time of initial call</th>\n",
       "      <th>Date and time of Ranger response</th>\n",
       "      <th>Borough</th>\n",
       "      <th>Property</th>\n",
       "      <th>Location</th>\n",
       "      <th>Species Description</th>\n",
       "      <th>Call Source</th>\n",
       "      <th>Species Status</th>\n",
       "      <th>Animal Condition</th>\n",
       "      <th>Duration of Response</th>\n",
       "      <th>...</th>\n",
       "      <th>311SR Number</th>\n",
       "      <th>Final Ranger Action</th>\n",
       "      <th># of Animals</th>\n",
       "      <th>PEP Response</th>\n",
       "      <th>Animal Monitored</th>\n",
       "      <th>Rehabilitator</th>\n",
       "      <th>Hours spent monitoring</th>\n",
       "      <th>Police Response</th>\n",
       "      <th>ESU Response</th>\n",
       "      <th>ACC Intake Number</th>\n",
       "    </tr>\n",
       "  </thead>\n",
       "  <tbody>\n",
       "    <tr>\n",
       "      <th>0</th>\n",
       "      <td>2019-05-09 11:30:00</td>\n",
       "      <td>2019-05-09 15:00:00</td>\n",
       "      <td>Manhattan</td>\n",
       "      <td>Central Park</td>\n",
       "      <td>Large Bald Cyprus on South East Corner of Harl...</td>\n",
       "      <td>American Goldfinch</td>\n",
       "      <td>Public</td>\n",
       "      <td>Native</td>\n",
       "      <td>DOA</td>\n",
       "      <td>0.5</td>\n",
       "      <td>...</td>\n",
       "      <td>NaN</td>\n",
       "      <td>Relocated/Condition Corrected</td>\n",
       "      <td>1.0</td>\n",
       "      <td>False</td>\n",
       "      <td>False</td>\n",
       "      <td>NaN</td>\n",
       "      <td>NaN</td>\n",
       "      <td>False</td>\n",
       "      <td>False</td>\n",
       "      <td>NaN</td>\n",
       "    </tr>\n",
       "    <tr>\n",
       "      <th>1</th>\n",
       "      <td>2019-04-17 13:00:00</td>\n",
       "      <td>2019-04-17 13:30:00</td>\n",
       "      <td>Manhattan</td>\n",
       "      <td>Central Park</td>\n",
       "      <td>Near Boathouse Restaurant Parking Lot</td>\n",
       "      <td>American Robin</td>\n",
       "      <td>Central</td>\n",
       "      <td>Native</td>\n",
       "      <td>Injured</td>\n",
       "      <td>1.0</td>\n",
       "      <td>...</td>\n",
       "      <td>1-1-1706102711</td>\n",
       "      <td>Rehabilitator</td>\n",
       "      <td>1.0</td>\n",
       "      <td>False</td>\n",
       "      <td>False</td>\n",
       "      <td>Wild Bird Fund</td>\n",
       "      <td>NaN</td>\n",
       "      <td>False</td>\n",
       "      <td>False</td>\n",
       "      <td>NaN</td>\n",
       "    </tr>\n",
       "    <tr>\n",
       "      <th>2</th>\n",
       "      <td>2019-05-22 14:00:00</td>\n",
       "      <td>2019-05-22 14:15:00</td>\n",
       "      <td>Manhattan</td>\n",
       "      <td>Central Park</td>\n",
       "      <td>5th Ave and 108th St</td>\n",
       "      <td>American Robin</td>\n",
       "      <td>Public</td>\n",
       "      <td>Native</td>\n",
       "      <td>Healthy</td>\n",
       "      <td>0.5</td>\n",
       "      <td>...</td>\n",
       "      <td>NaN</td>\n",
       "      <td>Relocated/Condition Corrected</td>\n",
       "      <td>1.0</td>\n",
       "      <td>False</td>\n",
       "      <td>False</td>\n",
       "      <td>NaN</td>\n",
       "      <td>NaN</td>\n",
       "      <td>False</td>\n",
       "      <td>False</td>\n",
       "      <td>NaN</td>\n",
       "    </tr>\n",
       "    <tr>\n",
       "      <th>3</th>\n",
       "      <td>2019-05-17 16:15:00</td>\n",
       "      <td>2019-05-17 16:15:00</td>\n",
       "      <td>Manhattan</td>\n",
       "      <td>Madison Square Park</td>\n",
       "      <td>NaN</td>\n",
       "      <td>Bat</td>\n",
       "      <td>Employee</td>\n",
       "      <td>Native</td>\n",
       "      <td>NaN</td>\n",
       "      <td>0.2</td>\n",
       "      <td>...</td>\n",
       "      <td>NaN</td>\n",
       "      <td>Advised/Educated others</td>\n",
       "      <td>1.0</td>\n",
       "      <td>True</td>\n",
       "      <td>False</td>\n",
       "      <td>NaN</td>\n",
       "      <td>NaN</td>\n",
       "      <td>False</td>\n",
       "      <td>False</td>\n",
       "      <td>NaN</td>\n",
       "    </tr>\n",
       "    <tr>\n",
       "      <th>4</th>\n",
       "      <td>2019-05-14 15:54:00</td>\n",
       "      <td>2019-05-14 16:00:00</td>\n",
       "      <td>Manhattan</td>\n",
       "      <td>Central Park</td>\n",
       "      <td>72nd St/ 5th ave wall</td>\n",
       "      <td>Bat</td>\n",
       "      <td>Public</td>\n",
       "      <td>Native</td>\n",
       "      <td>NaN</td>\n",
       "      <td>0.5</td>\n",
       "      <td>...</td>\n",
       "      <td>NaN</td>\n",
       "      <td>Relocated/Condition Corrected</td>\n",
       "      <td>1.0</td>\n",
       "      <td>False</td>\n",
       "      <td>False</td>\n",
       "      <td>NaN</td>\n",
       "      <td>NaN</td>\n",
       "      <td>False</td>\n",
       "      <td>False</td>\n",
       "      <td>NaN</td>\n",
       "    </tr>\n",
       "  </tbody>\n",
       "</table>\n",
       "<p>5 rows × 22 columns</p>\n",
       "</div>"
      ],
      "text/plain": [
       "  Date and Time of initial call Date and time of Ranger response    Borough  \\\n",
       "0           2019-05-09 11:30:00              2019-05-09 15:00:00  Manhattan   \n",
       "1           2019-04-17 13:00:00              2019-04-17 13:30:00  Manhattan   \n",
       "2           2019-05-22 14:00:00              2019-05-22 14:15:00  Manhattan   \n",
       "3           2019-05-17 16:15:00              2019-05-17 16:15:00  Manhattan   \n",
       "4           2019-05-14 15:54:00              2019-05-14 16:00:00  Manhattan   \n",
       "\n",
       "              Property                                           Location  \\\n",
       "0         Central Park  Large Bald Cyprus on South East Corner of Harl...   \n",
       "1         Central Park              Near Boathouse Restaurant Parking Lot   \n",
       "2         Central Park                               5th Ave and 108th St   \n",
       "3  Madison Square Park                                                NaN   \n",
       "4         Central Park                              72nd St/ 5th ave wall   \n",
       "\n",
       "  Species Description Call Source Species Status Animal Condition  \\\n",
       "0  American Goldfinch      Public         Native              DOA   \n",
       "1      American Robin     Central         Native          Injured   \n",
       "2      American Robin      Public         Native          Healthy   \n",
       "3                 Bat    Employee         Native              NaN   \n",
       "4                 Bat      Public         Native              NaN   \n",
       "\n",
       "   Duration of Response  ...    311SR Number            Final Ranger Action  \\\n",
       "0                   0.5  ...             NaN  Relocated/Condition Corrected   \n",
       "1                   1.0  ...  1-1-1706102711                  Rehabilitator   \n",
       "2                   0.5  ...             NaN  Relocated/Condition Corrected   \n",
       "3                   0.2  ...             NaN        Advised/Educated others   \n",
       "4                   0.5  ...             NaN  Relocated/Condition Corrected   \n",
       "\n",
       "  # of Animals PEP Response  Animal Monitored   Rehabilitator  \\\n",
       "0          1.0        False             False             NaN   \n",
       "1          1.0        False             False  Wild Bird Fund   \n",
       "2          1.0        False             False             NaN   \n",
       "3          1.0         True             False             NaN   \n",
       "4          1.0        False             False             NaN   \n",
       "\n",
       "  Hours spent monitoring Police Response  ESU Response ACC Intake Number  \n",
       "0                    NaN           False         False               NaN  \n",
       "1                    NaN           False         False               NaN  \n",
       "2                    NaN           False         False               NaN  \n",
       "3                    NaN           False         False               NaN  \n",
       "4                    NaN           False         False               NaN  \n",
       "\n",
       "[5 rows x 22 columns]"
      ]
     },
     "execution_count": 5,
     "metadata": {},
     "output_type": "execute_result"
    }
   ],
   "source": [
    "data.head()"
   ]
  },
  {
   "cell_type": "markdown",
   "metadata": {},
   "source": [
    "Step 4: What data do you have?"
   ]
  },
  {
   "cell_type": "markdown",
   "metadata": {},
   "source": [
    "Try: .info() .shape .nunique() .unique()\n",
    "\n",
    "Note: .nunique() and .unique() only work on a Series (aka, a column).\n",
    "\n",
    "Example: data[\"Property\"].unique() and data[\"Property\"].nunique()"
   ]
  },
  {
   "cell_type": "code",
   "execution_count": null,
   "metadata": {},
   "outputs": [],
   "source": []
  },
  {
   "cell_type": "markdown",
   "metadata": {},
   "source": [
    "Step 5: Practice plotting bar charts: DataFrame.plot.bar(x=None, y=None, kwds)"
   ]
  },
  {
   "cell_type": "code",
   "execution_count": 9,
   "metadata": {},
   "outputs": [
    {
     "ename": "SyntaxError",
     "evalue": "positional argument follows keyword argument (<ipython-input-9-caa3bcf2df1c>, line 1)",
     "output_type": "error",
     "traceback": [
      "\u001b[0;36m  File \u001b[0;32m\"<ipython-input-9-caa3bcf2df1c>\"\u001b[0;36m, line \u001b[0;32m1\u001b[0m\n\u001b[0;31m    data.plot(kind='bar', label='',kwds)\u001b[0m\n\u001b[0m                                  ^\u001b[0m\n\u001b[0;31mSyntaxError\u001b[0m\u001b[0;31m:\u001b[0m positional argument follows keyword argument\n"
     ]
    }
   ],
   "source": [
    "data.plot(kind='bar', label='',kwds)"
   ]
  },
  {
   "cell_type": "markdown",
   "metadata": {},
   "source": [
    "Step 6: Practice line graphs: DataFrame.plot(x=None, y=None, kwds)"
   ]
  },
  {
   "cell_type": "code",
   "execution_count": 7,
   "metadata": {},
   "outputs": [],
   "source": [
    "x = data['# of Animals']\n",
    "y = data['Duration of Response']"
   ]
  },
  {
   "cell_type": "markdown",
   "metadata": {},
   "source": [
    "Step 7: Practice plotting scatter plots: DataFrame.scatter(x=None, y=None, kwds)"
   ]
  },
  {
   "cell_type": "code",
   "execution_count": 8,
   "metadata": {},
   "outputs": [
    {
     "data": {
      "image/png": "[encoded data removed]",
      "text/plain": [
       "<Figure size 432x288 with 1 Axes>"
      ]
     },
     "metadata": {
      "needs_background": "light"
     },
     "output_type": "display_data"
    }
   ],
   "source": [
    "plt.scatter(x,y)\n",
    "plt.show()"
   ]
  },
  {
   "cell_type": "code",
   "execution_count": null,
   "metadata": {},
   "outputs": [],
   "source": []
  }
 ],
 "metadata": {
  "kernelspec": {
   "display_name": "Python 3",
   "language": "python",
   "name": "python3"
  },
  "language_info": {
   "codemirror_mode": {
    "name": "ipython",
    "version": 3
   },
   "file_extension": ".py",
   "mimetype": "text/x-python",
   "name": "python",
   "nbconvert_exporter": "python",
   "pygments_lexer": "ipython3",
   "version": "3.7.3"
  }
 },
 "nbformat": 4,
 "nbformat_minor": 2
}
