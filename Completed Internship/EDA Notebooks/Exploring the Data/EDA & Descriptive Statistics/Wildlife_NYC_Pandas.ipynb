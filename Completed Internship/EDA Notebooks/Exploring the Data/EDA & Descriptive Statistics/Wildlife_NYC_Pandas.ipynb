{
 "cells": [
  {
   "cell_type": "markdown",
   "metadata": {},
   "source": [
    "# Brown Scholars Internship 2019-2020 - Urban Wildlife in NYC"
   ]
  },
  {
   "cell_type": "markdown",
   "metadata": {},
   "source": [
    "New York City is home to many diverse species of wildlife that arrived or existed long before humans settled here.\n",
    "In October 2016, Mayor Bill de Blasio launched WildlifeNYC, a citywide education and awareness campaign teaching New Yorkers how to live safely and responsibly alongside wild animals including deer, raccoons, and coyotes.\n",
    "\n",
    "Urban wildlife is any wild animal that lives in an urban environment, such as New York City. Urban wildlife includes birds, mammals, reptiles, fish and amphibians. Some urban wildlife is native, like eastern grey squirrels, while some are non-native, like mute swans. Domesticated and companion animals, like dogs, exotic pets, and farm animals are not considered urban wildlife. Domesticated but feral animals like pigeons and stray cats are also not considered urban wildlife.\n",
    "\n",
    "Data source: https://data.cityofnewyork.us/Environment/Urban-Park-Ranger-Animal-Condition-Response/fuhs-xmg2"
   ]
  },
  {
   "cell_type": "markdown",
   "metadata": {},
   "source": [
    "First we'll start by importing packages we'll use"
   ]
  },
  {
   "cell_type": "code",
   "execution_count": 54,
   "metadata": {},
   "outputs": [],
   "source": [
    "import pandas as pd"
   ]
  },
  {
   "cell_type": "markdown",
   "metadata": {},
   "source": [
    "and then import the data. For now, the csv file should be in the same directory as the notebook. Notice that we are importing the date and time info as type 'datetime'"
   ]
  },
  {
   "cell_type": "code",
   "execution_count": 55,
   "metadata": {},
   "outputs": [],
   "source": [
    "df = pd.read_csv('Urban_Park_Ranger_Animal_Condition_Response.csv',\n",
    "                   parse_dates = ['Date and Time of initial call', 'Date and time of Ranger response'])"
   ]
  },
  {
   "cell_type": "markdown",
   "metadata": {},
   "source": [
    "Note: if you want to export the data, use df.to_csv(filename), where df is the name of your dataframe and filename is the name of the file where you want to save the data. The csv file will get created in the same directory as the notebook."
   ]
  },
  {
   "cell_type": "markdown",
   "metadata": {},
   "source": [
    "#### Step 1: Viewing and inspecting the data"
   ]
  },
  {
   "cell_type": "markdown",
   "metadata": {},
   "source": [
    "Now that the data is loaded, let's check it out. To learn more about what the data looks like we can try the following commands:\n",
    "- data.head( ) - to look at the first 5 rows\n",
    "- data.tail( ) - to look at the last 5 rows\n",
    "- data.shape - to get the number of rows and columns\n",
    "- data.info( ) - to get the names of the columns, how many non null pieces of data is in each column, and the type of data in each column\n",
    "- data.nunique( ) - to get how many unique values are in each column\n",
    "- data.max() - to get the highest value in each column\n",
    "- data.min() to get the lowest value in each column\n",
    "- data['col'].value_counts() - to get how many unique values are in a particular column"
   ]
  },
  {
   "cell_type": "code",
   "execution_count": 56,
   "metadata": {},
   "outputs": [
    {
     "data": {
      "text/html": [
       "<div>\n",
       "<style scoped>\n",
       "    .dataframe tbody tr th:only-of-type {\n",
       "        vertical-align: middle;\n",
       "    }\n",
       "\n",
       "    .dataframe tbody tr th {\n",
       "        vertical-align: top;\n",
       "    }\n",
       "\n",
       "    .dataframe thead th {\n",
       "        text-align: right;\n",
       "    }\n",
       "</style>\n",
       "<table border=\"1\" class=\"dataframe\">\n",
       "  <thead>\n",
       "    <tr style=\"text-align: right;\">\n",
       "      <th></th>\n",
       "      <th>Date and Time of initial call</th>\n",
       "      <th>Date and time of Ranger response</th>\n",
       "      <th>Borough</th>\n",
       "      <th>Property</th>\n",
       "      <th>Location</th>\n",
       "      <th>Species Description</th>\n",
       "      <th>Call Source</th>\n",
       "      <th>Species Status</th>\n",
       "      <th>Animal Condition</th>\n",
       "      <th>Duration of Response</th>\n",
       "      <th>...</th>\n",
       "      <th>311SR Number</th>\n",
       "      <th>Final Ranger Action</th>\n",
       "      <th># of Animals</th>\n",
       "      <th>PEP Response</th>\n",
       "      <th>Animal Monitored</th>\n",
       "      <th>Rehabilitator</th>\n",
       "      <th>Hours spent monitoring</th>\n",
       "      <th>Police Response</th>\n",
       "      <th>ESU Response</th>\n",
       "      <th>ACC Intake Number</th>\n",
       "    </tr>\n",
       "  </thead>\n",
       "  <tbody>\n",
       "    <tr>\n",
       "      <th>0</th>\n",
       "      <td>2019-06-12 09:20:00</td>\n",
       "      <td>2019-06-12 09:20:00</td>\n",
       "      <td>Manhattan</td>\n",
       "      <td>Washingtom Square Park</td>\n",
       "      <td>on Sidewalk accross from the park near 10 Wash...</td>\n",
       "      <td>Red-tailed Hawk</td>\n",
       "      <td>Other</td>\n",
       "      <td>Native</td>\n",
       "      <td>NaN</td>\n",
       "      <td>0.5</td>\n",
       "      <td>...</td>\n",
       "      <td>NaN</td>\n",
       "      <td>Advised/Educated others</td>\n",
       "      <td>1.0</td>\n",
       "      <td>False</td>\n",
       "      <td>False</td>\n",
       "      <td>NaN</td>\n",
       "      <td>NaN</td>\n",
       "      <td>False</td>\n",
       "      <td>False</td>\n",
       "      <td>NaN</td>\n",
       "    </tr>\n",
       "    <tr>\n",
       "      <th>1</th>\n",
       "      <td>2019-06-11 16:15:00</td>\n",
       "      <td>2019-06-11 16:20:00</td>\n",
       "      <td>Bronx</td>\n",
       "      <td>Van Cortlandt Park</td>\n",
       "      <td>Adjacent to VC Golf House</td>\n",
       "      <td>Canada Goose</td>\n",
       "      <td>Public</td>\n",
       "      <td>Native</td>\n",
       "      <td>Injured</td>\n",
       "      <td>0.5</td>\n",
       "      <td>...</td>\n",
       "      <td>1-1-1733837211</td>\n",
       "      <td>Unfounded</td>\n",
       "      <td>1.0</td>\n",
       "      <td>False</td>\n",
       "      <td>False</td>\n",
       "      <td>NaN</td>\n",
       "      <td>NaN</td>\n",
       "      <td>False</td>\n",
       "      <td>False</td>\n",
       "      <td>NaN</td>\n",
       "    </tr>\n",
       "    <tr>\n",
       "      <th>2</th>\n",
       "      <td>2019-06-10 13:00:00</td>\n",
       "      <td>2019-06-10 13:30:00</td>\n",
       "      <td>Brooklyn</td>\n",
       "      <td>Irving Square Park</td>\n",
       "      <td>Northwest corner of the park</td>\n",
       "      <td>Parrot</td>\n",
       "      <td>Public</td>\n",
       "      <td>Exotic</td>\n",
       "      <td>NaN</td>\n",
       "      <td>1.5</td>\n",
       "      <td>...</td>\n",
       "      <td>NaN</td>\n",
       "      <td>Unfounded</td>\n",
       "      <td>1.0</td>\n",
       "      <td>False</td>\n",
       "      <td>False</td>\n",
       "      <td>NaN</td>\n",
       "      <td>NaN</td>\n",
       "      <td>False</td>\n",
       "      <td>False</td>\n",
       "      <td>NaN</td>\n",
       "    </tr>\n",
       "    <tr>\n",
       "      <th>3</th>\n",
       "      <td>2019-06-09 09:30:00</td>\n",
       "      <td>2019-06-09 10:00:00</td>\n",
       "      <td>Brooklyn</td>\n",
       "      <td>Parade Ground</td>\n",
       "      <td>Prospect Park Parade Grounds near Tennis Center</td>\n",
       "      <td>Chicken</td>\n",
       "      <td>Central</td>\n",
       "      <td>Domestic</td>\n",
       "      <td>Healthy</td>\n",
       "      <td>3.0</td>\n",
       "      <td>...</td>\n",
       "      <td>1-1-1730643971</td>\n",
       "      <td>ACC</td>\n",
       "      <td>1.0</td>\n",
       "      <td>False</td>\n",
       "      <td>False</td>\n",
       "      <td>NaN</td>\n",
       "      <td>NaN</td>\n",
       "      <td>False</td>\n",
       "      <td>False</td>\n",
       "      <td>65352</td>\n",
       "    </tr>\n",
       "    <tr>\n",
       "      <th>4</th>\n",
       "      <td>2019-06-09 12:50:00</td>\n",
       "      <td>2019-06-09 12:55:00</td>\n",
       "      <td>Staten Island</td>\n",
       "      <td>Silver Lake Park</td>\n",
       "      <td>Bridge</td>\n",
       "      <td>Red-Eared Slider</td>\n",
       "      <td>Employee</td>\n",
       "      <td>Invasive</td>\n",
       "      <td>Injured</td>\n",
       "      <td>2.0</td>\n",
       "      <td>...</td>\n",
       "      <td>1-1-1724490913</td>\n",
       "      <td>ACC</td>\n",
       "      <td>2.0</td>\n",
       "      <td>True</td>\n",
       "      <td>False</td>\n",
       "      <td>NaN</td>\n",
       "      <td>NaN</td>\n",
       "      <td>False</td>\n",
       "      <td>False</td>\n",
       "      <td>65379 65380</td>\n",
       "    </tr>\n",
       "  </tbody>\n",
       "</table>\n",
       "<p>5 rows × 22 columns</p>\n",
       "</div>"
      ],
      "text/plain": [
       "  Date and Time of initial call Date and time of Ranger response  \\\n",
       "0           2019-06-12 09:20:00              2019-06-12 09:20:00   \n",
       "1           2019-06-11 16:15:00              2019-06-11 16:20:00   \n",
       "2           2019-06-10 13:00:00              2019-06-10 13:30:00   \n",
       "3           2019-06-09 09:30:00              2019-06-09 10:00:00   \n",
       "4           2019-06-09 12:50:00              2019-06-09 12:55:00   \n",
       "\n",
       "         Borough                Property  \\\n",
       "0      Manhattan  Washingtom Square Park   \n",
       "1          Bronx      Van Cortlandt Park   \n",
       "2       Brooklyn      Irving Square Park   \n",
       "3       Brooklyn           Parade Ground   \n",
       "4  Staten Island        Silver Lake Park   \n",
       "\n",
       "                                            Location Species Description  \\\n",
       "0  on Sidewalk accross from the park near 10 Wash...     Red-tailed Hawk   \n",
       "1                          Adjacent to VC Golf House        Canada Goose   \n",
       "2                       Northwest corner of the park              Parrot   \n",
       "3    Prospect Park Parade Grounds near Tennis Center             Chicken   \n",
       "4                                             Bridge    Red-Eared Slider   \n",
       "\n",
       "  Call Source Species Status Animal Condition  Duration of Response  ...  \\\n",
       "0       Other         Native              NaN                   0.5  ...   \n",
       "1      Public         Native          Injured                   0.5  ...   \n",
       "2      Public         Exotic              NaN                   1.5  ...   \n",
       "3     Central       Domestic          Healthy                   3.0  ...   \n",
       "4    Employee       Invasive          Injured                   2.0  ...   \n",
       "\n",
       "     311SR Number      Final Ranger Action # of Animals PEP Response  \\\n",
       "0             NaN  Advised/Educated others          1.0        False   \n",
       "1  1-1-1733837211                Unfounded          1.0        False   \n",
       "2             NaN                Unfounded          1.0        False   \n",
       "3  1-1-1730643971                      ACC          1.0        False   \n",
       "4  1-1-1724490913                      ACC          2.0         True   \n",
       "\n",
       "   Animal Monitored Rehabilitator Hours spent monitoring Police Response  \\\n",
       "0             False           NaN                    NaN           False   \n",
       "1             False           NaN                    NaN           False   \n",
       "2             False           NaN                    NaN           False   \n",
       "3             False           NaN                    NaN           False   \n",
       "4             False           NaN                    NaN           False   \n",
       "\n",
       "   ESU Response ACC Intake Number  \n",
       "0         False               NaN  \n",
       "1         False               NaN  \n",
       "2         False               NaN  \n",
       "3         False             65352  \n",
       "4         False       65379 65380  \n",
       "\n",
       "[5 rows x 22 columns]"
      ]
     },
     "execution_count": 56,
     "metadata": {},
     "output_type": "execute_result"
    }
   ],
   "source": [
    "df.head()"
   ]
  },
  {
   "cell_type": "code",
   "execution_count": 57,
   "metadata": {},
   "outputs": [],
   "source": [
    "#df.tail()"
   ]
  },
  {
   "cell_type": "code",
   "execution_count": 58,
   "metadata": {},
   "outputs": [],
   "source": [
    "#df.shape"
   ]
  },
  {
   "cell_type": "code",
   "execution_count": 93,
   "metadata": {},
   "outputs": [
    {
     "name": "stdout",
     "output_type": "stream",
     "text": [
      "<class 'pandas.core.frame.DataFrame'>\n",
      "RangeIndex: 982 entries, 0 to 981\n",
      "Data columns (total 22 columns):\n",
      "Date and Time of initial call       982 non-null datetime64[ns]\n",
      "Date and time of Ranger response    982 non-null datetime64[ns]\n",
      "Borough                             982 non-null object\n",
      "Property                            982 non-null object\n",
      "Location                            918 non-null object\n",
      "Species Description                 969 non-null object\n",
      "Call Source                         982 non-null object\n",
      "Species Status                      968 non-null object\n",
      "Animal Condition                    758 non-null object\n",
      "Duration of Response                982 non-null float64\n",
      "Age                                 982 non-null object\n",
      "Animal Class                        982 non-null object\n",
      "311SR Number                        573 non-null object\n",
      "Final Ranger Action                 982 non-null object\n",
      "# of Animals                        974 non-null float64\n",
      "PEP Response                        980 non-null object\n",
      "Animal Monitored                    980 non-null object\n",
      "Rehabilitator                       53 non-null object\n",
      "Hours spent monitoring              120 non-null float64\n",
      "Police Response                     980 non-null object\n",
      "ESU Response                        982 non-null bool\n",
      "ACC Intake Number                   402 non-null object\n",
      "dtypes: bool(1), datetime64[ns](2), float64(3), object(16)\n",
      "memory usage: 162.1+ KB\n"
     ]
    }
   ],
   "source": [
    "df.info()"
   ]
  },
  {
   "cell_type": "code",
   "execution_count": 60,
   "metadata": {},
   "outputs": [],
   "source": [
    "#df.nunique()"
   ]
  },
  {
   "cell_type": "code",
   "execution_count": 61,
   "metadata": {},
   "outputs": [],
   "source": [
    "#data.max()"
   ]
  },
  {
   "cell_type": "code",
   "execution_count": 62,
   "metadata": {},
   "outputs": [],
   "source": [
    "#data.min()"
   ]
  },
  {
   "cell_type": "code",
   "execution_count": 63,
   "metadata": {},
   "outputs": [],
   "source": [
    "#df[\"311SR Number\"].value_counts()"
   ]
  },
  {
   "cell_type": "markdown",
   "metadata": {},
   "source": [
    "#### Step 2: Cleaning the data"
   ]
  },
  {
   "cell_type": "markdown",
   "metadata": {},
   "source": [
    "By now, we should have a sense of which columns may have null values. It may be or not be ok for a column to have null values. One way to replace null values with some other value is using, use data.fillna(x) where x is the value we want instead of the null."
   ]
  },
  {
   "cell_type": "markdown",
   "metadata": {},
   "source": [
    "In addition, the data may not be in 'standard' form, that is for example, having the strings 'yes', 'YES', and 'Yes' all be values contained in the same column. To verify that the data in a column is in 'standard' form, we can use data['column_name'].unique(). For example, what happens when we try data['Species Description'].unique()? What happens when we try data['Species Status'].unique()? To replace values, we can use data['column name'].replace('yes','Yes') to replace all 'yes' values with 'Yes' values (for example)."
   ]
  },
  {
   "cell_type": "code",
   "execution_count": 65,
   "metadata": {},
   "outputs": [],
   "source": [
    "#meanie = df[\"Duration of Response\"].mean()"
   ]
  },
  {
   "cell_type": "code",
   "execution_count": 69,
   "metadata": {},
   "outputs": [],
   "source": [
    "#df[\"Duration of Response\"].fillna(meanie)"
   ]
  },
  {
   "cell_type": "code",
   "execution_count": 73,
   "metadata": {},
   "outputs": [
    {
     "data": {
      "text/plain": [
       "array(['Red-tailed Hawk', 'Canada Goose', 'Parrot', 'Chicken',\n",
       "       'Red-Eared Slider', 'Rd-tailed Hawk', 'Cormorant', 'Raccoon',\n",
       "       'Rooster', 'Dove', 'Snapping turtle', 'Monk Parakeet',\n",
       "       'Mallard Duck', 'Gull', 'Snake', 'Snapping Turtle', 'Opossum',\n",
       "       'Red-eyed Vireo', 'turtle', 'Squirrel', 'American Robin',\n",
       "       'Domestic Duck', 'Pigeon', 'Bat', 'sparrow', nan,\n",
       "       'Domestic Rabbit', 'Fledgling (possibly Starling)', 'Guineafowl',\n",
       "       'American Goldfinch', 'Bird/Unspecified Species',\n",
       "       'Freshwater Fish and Turtles', 'Turtle/ Unspecified species',\n",
       "       'Cat', 'silver-haired bat', 'Seal', 'Egret', 'Skunk',\n",
       "       'Painted Turtle', 'Northern Gannet', 'Parakeet', 'Cockatiel',\n",
       "       'Saw whet owl', 'Dog', 'Robin', 'Big Brown Bat', 'Corn Snake',\n",
       "       'Mute Swan', 'Coopers Hawk', 'Harbor Porpoise',\n",
       "       'Boa Constrictor Snake', 'Turkey', 'Deer', 'Dolphin', 'Coyote',\n",
       "       'Swan', 'Harbor Seal', 'Frog', 'Woodcock', 'Brant Goose', 'Falcon',\n",
       "       \"Cooper's Hawk\", 'Herring Gull', 'Duck', 'White throated sparrow',\n",
       "       'Blue Jay', 'Guinea Pigs', 'Racoon', 'house sparrow',\n",
       "       'Sharp Shinned Hawk', 'raccoon', 'Northern Saw-whet Owl',\n",
       "       'Ring-Billed Gull', 'Duck (species unknown)', 'woodcock', 'Turtle',\n",
       "       'Ruddy Duck', 'bat', 'cormorant', 'Hawk', 'Silver-haired Bat',\n",
       "       'Chinese Silky Chicken', 'squirrel', 'Rabbit', 'Muskrat',\n",
       "       'Yellow Bellied Sapsucker', 'Red-Bellied Woodpecker', 'gull',\n",
       "       'Warbler', 'Groundhog', 'White Tailed Deer', 'Gray squirrel',\n",
       "       'Brant', 'Goose - White Pygmy', 'yellow bellied sap-sucker',\n",
       "       'Mandarin Duck', 'Nashville warbler', 'House Sparrow',\n",
       "       'Downy woodpecker', 'Domestic Dove', 'Common Snapping Turtle',\n",
       "       'Alligator snapping turtle', 'mallard duck', 'Unknown Species',\n",
       "       'Yellow Crowned Night Heron', 'unknown',\n",
       "       'Double crested cormorant', 'Canada goose', 'bird of prey',\n",
       "       'Rock Dove', 'Red-Tailed Hawk', 'Banded Rock Pigeon',\n",
       "       'Eastern Gray Squirrel', 'Painted turtle', 'Black Skimmer',\n",
       "       'Hummingbird', 'Green Heron', 'Black Racer Snake', 'Homing Pigeon',\n",
       "       '2 black back gulls and 1 pigeon', 'pet rabbit', 'red tailed-hawk',\n",
       "       'pigeon', 'Bearded dragon', 'Red-tailed hawk', 'Gerbil',\n",
       "       'Black backed gull', 'White-tailed deer', 'Mourning Dove',\n",
       "       'Red Tail', 'Iguana', 'Red-eared Slider Turtle',\n",
       "       'Peregrine Falcon', 'Kestrel', 'Red Bat', 'Red Tailed Hawk',\n",
       "       'Mallard duck', 'crow', 'Herring gull', 'Squirrells',\n",
       "       'Infant Squirrel', 'American Oystercatcher', 'opossum',\n",
       "       'dutch blue love bird', 'double crested cormorant', 'RACCOON'],\n",
       "      dtype=object)"
      ]
     },
     "execution_count": 73,
     "metadata": {},
     "output_type": "execute_result"
    }
   ],
   "source": [
    "df[\"Species Description\"].unique()"
   ]
  },
  {
   "cell_type": "code",
   "execution_count": 76,
   "metadata": {},
   "outputs": [],
   "source": [
    "#df[\"Species Status\"].unique"
   ]
  },
  {
   "cell_type": "markdown",
   "metadata": {},
   "source": [
    "#### Step 3: Exploring the data"
   ]
  },
  {
   "cell_type": "markdown",
   "metadata": {},
   "source": [
    "Once our data is in the shape that we need it to be, we can start exploring it. To learn more about what the data can tell us we'll try filtering and grouping it, also computating some basic statistics and making graphs. The decisions that we make when doing all this can be based on our knowledge of the topic, our curiosity to learn from the data, as well as informed by what we learn from the data (or all three!)."
   ]
  },
  {
   "cell_type": "markdown",
   "metadata": {},
   "source": [
    "##### Filtering data"
   ]
  },
  {
   "cell_type": "markdown",
   "metadata": {},
   "source": [
    "To filter data, the following commands are useful:\n",
    "\n",
    "- data[col] - to work only with one column\n",
    "- data[data[col] > 7] - to extract rows that meet a particular criteria\n",
    "- data[(data[col] > 0.5) & (data[col] < 0.7)] - to extract rows that meet more than one criteria"
   ]
  },
  {
   "cell_type": "code",
   "execution_count": 89,
   "metadata": {},
   "outputs": [
    {
     "data": {
      "text/html": [
       "<div>\n",
       "<style scoped>\n",
       "    .dataframe tbody tr th:only-of-type {\n",
       "        vertical-align: middle;\n",
       "    }\n",
       "\n",
       "    .dataframe tbody tr th {\n",
       "        vertical-align: top;\n",
       "    }\n",
       "\n",
       "    .dataframe thead th {\n",
       "        text-align: right;\n",
       "    }\n",
       "</style>\n",
       "<table border=\"1\" class=\"dataframe\">\n",
       "  <thead>\n",
       "    <tr style=\"text-align: right;\">\n",
       "      <th></th>\n",
       "      <th>Date and Time of initial call</th>\n",
       "      <th>Date and time of Ranger response</th>\n",
       "      <th>Borough</th>\n",
       "      <th>Property</th>\n",
       "      <th>Location</th>\n",
       "      <th>Species Description</th>\n",
       "      <th>Call Source</th>\n",
       "      <th>Species Status</th>\n",
       "      <th>Animal Condition</th>\n",
       "      <th>Duration of Response</th>\n",
       "      <th>...</th>\n",
       "      <th>311SR Number</th>\n",
       "      <th>Final Ranger Action</th>\n",
       "      <th># of Animals</th>\n",
       "      <th>PEP Response</th>\n",
       "      <th>Animal Monitored</th>\n",
       "      <th>Rehabilitator</th>\n",
       "      <th>Hours spent monitoring</th>\n",
       "      <th>Police Response</th>\n",
       "      <th>ESU Response</th>\n",
       "      <th>ACC Intake Number</th>\n",
       "    </tr>\n",
       "  </thead>\n",
       "  <tbody>\n",
       "  </tbody>\n",
       "</table>\n",
       "<p>0 rows × 22 columns</p>\n",
       "</div>"
      ],
      "text/plain": [
       "Empty DataFrame\n",
       "Columns: [Date and Time of initial call, Date and time of Ranger response, Borough, Property, Location, Species Description, Call Source, Species Status, Animal Condition, Duration of Response, Age, Animal Class, 311SR Number, Final Ranger Action, # of Animals, PEP Response, Animal Monitored, Rehabilitator, Hours spent monitoring, Police Response, ESU Response, ACC Intake Number]\n",
       "Index: []\n",
       "\n",
       "[0 rows x 22 columns]"
      ]
     },
     "execution_count": 89,
     "metadata": {},
     "output_type": "execute_result"
    }
   ],
   "source": [
    "\"Duration of Response\"\n",
    "data[(data[\"Duration of Response\"] > 0.5) & (data[\"Duration of Response\"] < 0.7)]"
   ]
  },
  {
   "cell_type": "code",
   "execution_count": null,
   "metadata": {},
   "outputs": [],
   "source": []
  },
  {
   "cell_type": "markdown",
   "metadata": {},
   "source": [
    "##### Grouping data"
   ]
  },
  {
   "cell_type": "markdown",
   "metadata": {},
   "source": [
    "To group data, the following commands are useful:\n",
    "- data[[col1, col2]] - to work with only some columns\n",
    "- data.groupby(col) - To group the data based on the values in one column\n",
    "- data.groupby([col1,col2]) - To group the data based on the values in more than one column\n",
    "- If we want to find out how big each group is, we can use use .size() to count the number of rows in each group."
   ]
  },
  {
   "cell_type": "code",
   "execution_count": 95,
   "metadata": {},
   "outputs": [],
   "source": [
    "#df[[\"Duration of Response\", \"Date and time of Ranger response\"]].head()"
   ]
  },
  {
   "cell_type": "code",
   "execution_count": 105,
   "metadata": {},
   "outputs": [],
   "source": [
    "Testing = df.groupby([\"Species Description\", \"Age\"])"
   ]
  },
  {
   "cell_type": "code",
   "execution_count": 106,
   "metadata": {},
   "outputs": [
    {
     "data": {
      "text/plain": [
       "Species Description              Age             \n",
       "2 black back gulls and 1 pigeon  Adult                1\n",
       "Alligator snapping turtle        Adult                1\n",
       "American Goldfinch               Adult                1\n",
       "American Oystercatcher           Adult                1\n",
       "American Robin                   Adult                1\n",
       "                                 Infant               1\n",
       "Banded Rock Pigeon               Adult                1\n",
       "Bat                              Adult                4\n",
       "Bearded dragon                   Adult                1\n",
       "Big Brown Bat                    Adult                1\n",
       "Bird/Unspecified Species         Infant               1\n",
       "Black Racer Snake                Adult                1\n",
       "Black Skimmer                    Juvenile             1\n",
       "Black backed gull                Adult                1\n",
       "Blue Jay                         Adult                2\n",
       "                                 Juvenile             1\n",
       "Boa Constrictor Snake            Adult                1\n",
       "Brant                            Adult                1\n",
       "Brant Goose                      Adult                1\n",
       "Canada Goose                     Adult               36\n",
       "                                 Juvenile             1\n",
       "Canada goose                     Adult                1\n",
       "Cat                              Adult                7\n",
       "                                 Infant               1\n",
       "                                 Infant;#Juvenile     1\n",
       "                                 Juvenile             2\n",
       "Chicken                          Adult               20\n",
       "                                 Juvenile             6\n",
       "Chinese Silky Chicken            Adult                1\n",
       "Cockatiel                        Adult                1\n",
       "                                                     ..\n",
       "White Tailed Deer                Infant               1\n",
       "White throated sparrow           Adult                1\n",
       "White-tailed deer                Adult                1\n",
       "Woodcock                         Adult                1\n",
       "Yellow Bellied Sapsucker         Juvenile             1\n",
       "Yellow Crowned Night Heron       Juvenile             1\n",
       "bat                              Adult                1\n",
       "bird of prey                     Adult                1\n",
       "cormorant                        Adult                1\n",
       "crow                             Adult                1\n",
       "double crested cormorant         Adult                1\n",
       "dutch blue love bird             Infant               1\n",
       "gull                             Adult                3\n",
       "                                 Infant               1\n",
       "house sparrow                    Adult                1\n",
       "mallard duck                     Adult                1\n",
       "opossum                          Juvenile             1\n",
       "pet rabbit                       Adult                1\n",
       "pigeon                           Adult                2\n",
       "raccoon                          Adult               42\n",
       "                                 Infant               2\n",
       "                                 Juvenile            20\n",
       "red tailed-hawk                  Juvenile             1\n",
       "silver-haired bat                Adult                1\n",
       "sparrow                          Infant               1\n",
       "squirrel                         Adult                1\n",
       "turtle                           Adult                1\n",
       "unknown                          Adult                1\n",
       "woodcock                         Adult                3\n",
       "yellow bellied sap-sucker        Adult                1\n",
       "Length: 194, dtype: int64"
      ]
     },
     "execution_count": 106,
     "metadata": {},
     "output_type": "execute_result"
    }
   ],
   "source": [
    "Testing.size()"
   ]
  },
  {
   "cell_type": "markdown",
   "metadata": {},
   "source": [
    "##### Basic statistics"
   ]
  },
  {
   "cell_type": "markdown",
   "metadata": {},
   "source": [
    "To compute some basic statistics we can use:\n",
    "- data.describe() - summary statistics for numerical columns\n",
    "- data.mean() - mean of all columns\n",
    "- data.median() - median of each column\n",
    "- data.std() - standard deviation of each column\n",
    "- data.corr() - to get the correlation between columns"
   ]
  },
  {
   "cell_type": "code",
   "execution_count": null,
   "metadata": {},
   "outputs": [],
   "source": []
  },
  {
   "cell_type": "markdown",
   "metadata": {},
   "source": [
    "##### Making graphs"
   ]
  },
  {
   "cell_type": "markdown",
   "metadata": {},
   "source": [
    "To visualize categorical data we can use:\n",
    "- g = data['col'].value_counts()\n",
    "- g.plot(x=g.index, y=g.values, kind = 'bar')or g.plot.pie(y='Borough')"
   ]
  },
  {
   "cell_type": "code",
   "execution_count": null,
   "metadata": {},
   "outputs": [],
   "source": []
  }
 ],
 "metadata": {
  "kernelspec": {
   "display_name": "Python 3",
   "language": "python",
   "name": "python3"
  },
  "language_info": {
   "codemirror_mode": {
    "name": "ipython",
    "version": 3
   },
   "file_extension": ".py",
   "mimetype": "text/x-python",
   "name": "python",
   "nbconvert_exporter": "python",
   "pygments_lexer": "ipython3",
   "version": "3.7.3"
  }
 },
 "nbformat": 4,
 "nbformat_minor": 2
}
